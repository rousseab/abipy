{
 "metadata": {
  "name": "",
  "signature": "sha256:51e7d28957c4de8a92b12f674659ffc5481500b7db1b536ec966228318f54fad"
 },
 "nbformat": 3,
 "nbformat_minor": 0,
 "worksheets": [
  {
   "cells": [
    {
     "cell_type": "markdown",
     "metadata": {},
     "source": [
      "Back to the main [Index](../index.ipynb)"
     ]
    },
    {
     "cell_type": "heading",
     "level": 1,
     "metadata": {},
     "source": [
      "Analysis"
     ]
    },
    {
     "cell_type": "markdown",
     "metadata": {},
     "source": [
      "In this section, we discuss how to use the `AbiPy` objects to read the results of the calculation from a `Netcdf` file, \n",
      "analyze the results and plot data with `matplotlib`."
     ]
    },
    {
     "cell_type": "heading",
     "level": 2,
     "metadata": {},
     "source": [
      "Tutorials"
     ]
    },
    {
     "cell_type": "markdown",
     "metadata": {},
     "source": [
      "* [GSR](gsr.ipynb): Analyze the results of a ground-state calculation with the GSR file\n",
      "* [MBPT](mbpt.ipynb): Analyze the results of $GW$ and Bethe-Salpeter calculations \n",
      "* [PHBST](phonons.ipynb): Tools to analyze phonons"
     ]
    }
   ],
   "metadata": {}
  }
 ]
}