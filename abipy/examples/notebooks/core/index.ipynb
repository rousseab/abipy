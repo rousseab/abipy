{
 "metadata": {
  "name": "",
  "signature": "sha256:7f042cb59014339ca14c977df40a117525cbe4cb1f03ced917f30eace9a13f28"
 },
 "nbformat": 3,
 "nbformat_minor": 0,
 "worksheets": [
  {
   "cells": [
    {
     "cell_type": "markdown",
     "metadata": {},
     "source": [
      "Back to the main [Index](../index.ipynb)"
     ]
    },
    {
     "cell_type": "heading",
     "level": 1,
     "metadata": {},
     "source": [
      "Core Objects"
     ]
    },
    {
     "cell_type": "markdown",
     "metadata": {},
     "source": [
      "* [Structure](structure.ipynb): The crystalline structure\n",
      "* [Abinit Input](abinit_input.ipynb): How to create an `AbinitInput`\n",
      "* [Flows](flows.ipynb): How to automate calculations with `Flows`, `Works` and `Tasks`\n",
      "* [Abilab](abilab.ipynb): Abilab module (help functions and important objects)"
     ]
    }
   ],
   "metadata": {}
  }
 ]
}