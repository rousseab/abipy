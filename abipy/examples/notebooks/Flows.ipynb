{
 "metadata": {
  "name": "",
  "signature": "sha256:050d01c4f992f38b2c8c9678b195f00b70c8108a3adaacc0740ea67088f03b01"
 },
 "nbformat": 3,
 "nbformat_minor": 0,
 "worksheets": [
  {
   "cells": [
    {
     "cell_type": "heading",
     "level": 1,
     "metadata": {},
     "source": [
      "Tasks, Workflows and Flows"
     ]
    },
    {
     "cell_type": "markdown",
     "metadata": {},
     "source": [
      "Multiple datasets are handy if one wants to perform simple calculations such as convergence studies. \n",
      "Unfortunately multiple datasets do not represent the best approach when we are dealing with expensive calculations involving different steps.\n",
      "Each step, indeed, might use a different MPI algorithm and it is very difficult to find an optimal number of processors that will lead to a good paralell efficiency in each step. \n",
      "For example, a GS calculation parallelized over k-points is not efficient when the number of processors is greater than `nkpt*nsppol` whereas a $GW$ calculation (done with the same parameters) is only limited by the number of bands. \n",
      "Moreover a run with multiple datasets might be killed by the resource manager if the job exceeds the maximum wall time and the user is therefore forced to restart the interrupted run. \n",
      "`Abipy` tries to facilitate the execution of calculations that involve several steps...  "
     ]
    },
    {
     "cell_type": "markdown",
     "metadata": {},
     "source": [
      "Let's start by creating a functions that will produce two input files. \n",
      "The first input is a standard self-consistent ground-state calculation. \n",
      "In the example, we use `ndtset=2` simply because this trick allows us to reduce the number of calls we have to perform to initialize the variables of the calculations. For example we set the structure only once by calling `inp.set_structure_from_file` so that both dataset1 and dataset2 will use the same crystalline parameters.\n",
      "The function `split_datasets` returns **two inputs files** that can be run separately. \n",
      "The second dataset uses the density produced in the first run to perform a non self-consistent band structure calculation.\n",
      "**Note** that we don't have to use `getden2 = -1` in the second dataset since `Abipy` knows how to connect the two steps."
     ]
    },
    {
     "cell_type": "heading",
     "level": 2,
     "metadata": {},
     "source": [
      "A simple example: an `AbinitFlow` for the computation of the band structure of Silicon."
     ]
    },
    {
     "cell_type": "markdown",
     "metadata": {},
     "source": [
      "Before running our first calculation with `abipy`, we have to provide two simple configurations files in YAML format.\n",
      "These two files are located in the directory ~/.abinit/abipy and are named `taskmanager.yml` and `scheduler.yml`.\n",
      "The first file provides the information needed to submit and run the abinit jobs on your machine."
     ]
    },
    {
     "cell_type": "code",
     "collapsed": false,
     "input": [
      "!cat ~/.abinit/abipy/taskmanager.yml"
     ],
     "language": "python",
     "metadata": {},
     "outputs": [
      {
       "output_type": "stream",
       "stream": "stdout",
       "text": [
        "qtype: shell\r\n",
        "mpi_runner: mpirun\r\n",
        "pre_run: \r\n",
        "  - \"source  ~/Coding/Abinit/bzr_archives/env.sh\"\r\n",
        "  - \"export PATH=~/Coding/Abinit/bzr_archives/792/gmatteo-public/fftw3/src/98_main/:$PATH\"\r\n",
        "policy:\r\n",
        "    autoparal: 0\r\n",
        "    max_ncpus: 1\r\n"
       ]
      }
     ],
     "prompt_number": 1
    },
    {
     "cell_type": "markdown",
     "metadata": {},
     "source": [
      "In this case, we are running abinit in a shell subprocess (qtype: shell) with mpirun. \n",
      "The `autoparal` section defines the variables governing the automated parallelization of the calculation (for more info see the Abinit documentation). \n",
      "`max_npus` defines the *maximum* number of MPI processes that can be used for each run.\n",
      "Before submitting/runnning the calculation, Abipy will perform a fake run on the fron-end to get the possible parallel configurations with ncpus <= max_ncpus. On the basis of these results, abipy will select the one \n",
      "with the highest speedup, and it will also change the input file by setting all the variables that are needed to enable the selected parallel algorithm (very useful, especially for calculations done with `paral_kgb=1`)."
     ]
    },
    {
     "cell_type": "markdown",
     "metadata": {},
     "source": [
      "The other configuration file is named `scheduler.yml` and defines the parameters for the scheduler that will run/submit our jobs"
     ]
    },
    {
     "cell_type": "code",
     "collapsed": false,
     "input": [
      "!cat ~/.abinit/abipy/scheduler.yml"
     ],
     "language": "python",
     "metadata": {},
     "outputs": [
      {
       "output_type": "stream",
       "stream": "stdout",
       "text": [
        "# number of weeks to wait.\r\n",
        "#weeks:\r\n",
        "# number of days to wait.\r\n",
        "#days:\r\n",
        "# number of hours to wait.\r\n",
        "#hours:\r\n",
        "# number of minutes to wait.\r\n",
        "#minutes:\r\n",
        "# number of seconds to wait.\r\n",
        "seconds: 10\r\n",
        "# when to first execute the job and start the counter (default is after the given interval).\r\n",
        "#start_date:\r\n",
        "# Send mail to the specified address (accepts string or list of strings).\r\n",
        "#mailto: matteo.giantomassi@uclouvain.be\r\n",
        "\r\n",
        "# The scheduler will shutdown when the number of python exceptions is > MAX_NUM_PYEXCS\r\n",
        "#MAX_NUM_PYEXCS = 2\r\n",
        "# The scheduler will shutdown when the number of Abinit errors is > MAX_NUM_ABIERRS\r\n",
        "#MAX_NUM_ABIERRS = 0\r\n",
        "# The scheduler will shutdows when the number of tasks launched is > SAFETY_RATIO * tot_num_tasks.\r\n",
        "#SAFETY_RATIO = 3\r\n",
        "#REMINDME_S: 20\r\n",
        "#MAX_TIME_S:\r\n"
       ]
      }
     ],
     "prompt_number": 2
    },
    {
     "cell_type": "markdown",
     "metadata": {},
     "source": [
      "At this point we have all the configuration files needed for running our calculations and we can start to write the python code that will create our calculation. Let's start by defining a function that returns two Abinit input files: one for the ground-state calculation and the other one for the NSCF run for the band structure calculation:"
     ]
    },
    {
     "cell_type": "code",
     "collapsed": false,
     "input": [
      "from __future__ import division, print_function, unicode_literals\n",
      "\n",
      "import os\n",
      "from abipy import abilab\n",
      "import abipy.data as abidata\n",
      "\n",
      "def make_scf_nscf_inputs():\n",
      "    inp = abilab.AbiInput(pseudos=abidata.pseudos(\"14si.pspnc\"), ndtset=2)\n",
      "    inp.set_structure_from_file(abidata.cif_file(\"si.cif\"))\n",
      "\n",
      "    # Global variables\n",
      "    global_vars = dict(ecut=6,\n",
      "                       nband=8)\n",
      "\n",
      "    inp.set_variables(**global_vars)\n",
      "\n",
      "    # Dataset 1 (GS run)\n",
      "    inp[1].set_kmesh(ngkpt=[8,8,8], shiftk=[0,0,0])\n",
      "    inp[1].set_variables(tolvrs=1e-6)\n",
      "\n",
      "    # Dataset 2 (NSCF run)\n",
      "    kptbounds = [\n",
      "        [0.5, 0.0, 0.0], # L point\n",
      "        [0.0, 0.0, 0.0], # Gamma point\n",
      "        [0.0, 0.5, 0.5], # X point\n",
      "    ]\n",
      "\n",
      "    inp[2].set_kpath(ndivsm=6, kptbounds=kptbounds)\n",
      "    inp[2].set_variables(tolwfr=1e-12)\n",
      "    \n",
      "    # Generate two input files for the GS and the NSCF run\n",
      "    scf_input, nscf_input = inp.split_datasets()\n",
      "    return scf_input, nscf_input"
     ],
     "language": "python",
     "metadata": {},
     "outputs": [],
     "prompt_number": 2
    },
    {
     "cell_type": "markdown",
     "metadata": {},
     "source": [
      "Once we have our two input files we can call our function to get to the input variables and pass the two input files to the factory function `bandstructure_flow` that will construct \n",
      "an object describing a band structure calculation with Abinit:"
     ]
    },
    {
     "cell_type": "code",
     "collapsed": false,
     "input": [
      "def bands_flow(workdir):\n",
      "    # Call our function to get the two inputs.\n",
      "    scf_input, nscf_input = make_scf_nscf_inputs()\n",
      "    \n",
      "    # Read the TaskManager from the configuration file \"taskmanager.yml\"\n",
      "    manager = abilab.TaskManager.from_user_config()\n",
      "    \n",
      "    # Call the factory function for band structure flows provided by abilab   \n",
      "    flow = abilab.bandstructure_flow(workdir, manager, scf_input, nscf_input)\n",
      "    return flow"
     ],
     "language": "python",
     "metadata": {},
     "outputs": [],
     "prompt_number": 3
    },
    {
     "cell_type": "markdown",
     "metadata": {},
     "source": [
      "At this point we can construct our band structure flow by just passing to `bands_flow` the name of the directory where we want to produce the results: "
     ]
    },
    {
     "cell_type": "code",
     "collapsed": false,
     "input": [
      "flow = bands_flow(workdir=\"/tmp/hello_bands\")\n",
      "flow.show_status()"
     ],
     "language": "python",
     "metadata": {},
     "outputs": [
      {
       "output_type": "stream",
       "stream": "stdout",
       "text": [
        "================================================================================\n",
        "Work #0: <BandStructureWork, workdir=../../../../../../../../tmp/hello_bands/w0>, Finalized=False\n",
        "\n",
        "+------+-------------+----------+--------+----------+----------+-----+-----+----------+------------+-----------+\n",
        "| Task |    Status   | Queue-id | Errors | Warnings | Comments | MPI | OMP | Restarts | Task-Class | Run-Etime |\n",
        "+------+-------------+----------+--------+----------+----------+-----+-----+----------+------------+-----------+\n",
        "|  t0  | Initialized |   None   |  N/A   |   N/A    |   N/A    |  1  |  1  |    0     |  ScfTask   |    None   |\n",
        "|  t1  | Initialized |   None   |  N/A   |   N/A    |   N/A    |  1  |  1  |    0     |  NscfTask  |    None   |\n",
        "+------+-------------+----------+--------+----------+----------+-----+-----+----------+------------+-----------+\n"
       ]
      }
     ],
     "prompt_number": 6
    },
    {
     "cell_type": "code",
     "collapsed": false,
     "input": [
      "flow.show_dependencies()"
     ],
     "language": "python",
     "metadata": {},
     "outputs": [
      {
       "output_type": "stream",
       "stream": "stdout",
       "text": [
        "<ScfTask, workdir=../../../../../../../../tmp/hello_bands/w0/t0>\u001b[0m\n",
        "\n",
        "<NscfTask, workdir=../../../../../../../../tmp/hello_bands/w0/t1>\u001b[0m\n",
        "  +--<ScfTask, workdir=../../../../../../../../tmp/hello_bands/w0/t0>\u001b[0m\n",
        "\n"
       ]
      }
     ],
     "prompt_number": 7
    },
    {
     "cell_type": "markdown",
     "metadata": {},
     "source": [
      "The flow is still in memory and no file has been produced. In order to build the workflow, we have to use "
     ]
    },
    {
     "cell_type": "code",
     "collapsed": false,
     "input": [
      "flow.build_and_pickle_dump()"
     ],
     "language": "python",
     "metadata": {},
     "outputs": [
      {
       "metadata": {},
       "output_type": "pyout",
       "prompt_number": 8,
       "text": [
        "0"
       ]
      }
     ],
     "prompt_number": 8
    },
    {
     "cell_type": "code",
     "collapsed": false,
     "input": [
      "!tree /tmp/hello_bands"
     ],
     "language": "python",
     "metadata": {},
     "outputs": [
      {
       "output_type": "stream",
       "stream": "stdout",
       "text": [
        "/tmp/hello_bands\r\n",
        "\u251c\u2500\u2500 __AbinitFlow__.pickle\r\n",
        "\u251c\u2500\u2500 indata\r\n",
        "\u251c\u2500\u2500 outdata\r\n",
        "\u251c\u2500\u2500 tmpdata\r\n",
        "\u2514\u2500\u2500 w0\r\n",
        "    \u251c\u2500\u2500 indata\r\n",
        "    \u251c\u2500\u2500 outdata\r\n",
        "    \u251c\u2500\u2500 t0\r\n",
        "    \u2502\u00a0\u00a0 \u251c\u2500\u2500 indata\r\n",
        "    \u2502\u00a0\u00a0 \u251c\u2500\u2500 job.sh\r\n",
        "    \u2502\u00a0\u00a0 \u251c\u2500\u2500 outdata\r\n",
        "    \u2502\u00a0\u00a0 \u251c\u2500\u2500 run.abi\r\n",
        "    \u2502\u00a0\u00a0 \u251c\u2500\u2500 run.files\r\n",
        "    \u2502\u00a0\u00a0 \u2514\u2500\u2500 tmpdata\r\n",
        "    \u251c\u2500\u2500 t1\r\n",
        "    \u2502\u00a0\u00a0 \u251c\u2500\u2500 indata\r\n",
        "    \u2502\u00a0\u00a0 \u251c\u2500\u2500 job.sh\r\n",
        "    \u2502\u00a0\u00a0 \u251c\u2500\u2500 outdata\r\n",
        "    \u2502\u00a0\u00a0 \u251c\u2500\u2500 run.abi\r\n",
        "    \u2502\u00a0\u00a0 \u251c\u2500\u2500 run.files\r\n",
        "    \u2502\u00a0\u00a0 \u2514\u2500\u2500 tmpdata\r\n",
        "    \u2514\u2500\u2500 tmpdata\r\n",
        "\r\n",
        "15 directories, 7 files\r\n"
       ]
      }
     ],
     "prompt_number": 9
    },
    {
     "cell_type": "markdown",
     "metadata": {},
     "source": [
      "`__AbinitFlow__.pickle` is the pickle database used to store the `AbinitFlow` we've just created (**don't touch it**). \n",
      "`work_0` is the directory containing the input files of the first workflow (well, we have only one workflow in our example).\n",
      "`task_0` and `task_1` contains the input files need to run the SCF and the NSC run, respectively.\n",
      "You might have noticed that each `task_*` directory present the same structure:\n",
      "    \n",
      "      - run.abi: Abinit input file\n",
      "      - run.files: Abinit files file\n",
      "      - job.sh: Submission script\n",
      "      - outdata: Directory containing output data files\n",
      "      - indata: Directory containing input data files \n",
      "      - tmpdata: Directory with temporary files"
     ]
    },
    {
     "cell_type": "markdown",
     "metadata": {},
     "source": [
      "At this point, we only need to run our calculations:"
     ]
    },
    {
     "cell_type": "code",
     "collapsed": false,
     "input": [
      "!abirun.py /tmp/hello_bands scheduler"
     ],
     "language": "python",
     "metadata": {},
     "outputs": [
      {
       "output_type": "stream",
       "stream": "stdout",
       "text": [
        "PyFlowScheduler, Pid: 7122\r\n",
        "Scheduler options: {'seconds': 5, 'hours': 0, 'weeks': 0, 'minutes': 0, 'days': 0}\r\n",
        "================================================================================\r\n",
        "<Flow, workdir=../../../../../../../../tmp/hello_bands>\r\n",
        "Cannot get njobs_inqueue\r\n"
       ]
      },
      {
       "output_type": "stream",
       "stream": "stdout",
       "text": [
        "================================================================================\r\n",
        "Work #0: <BandStructureWork, workdir=../../../../../../../../tmp/hello_bands/w0>, Finalized=False\r\n",
        "\r\n",
        "+------+-------------+----------+--------+----------+----------+-----+-----+----------+------------+-----------+\r\n",
        "| Task |    Status   | Queue-id | Errors | Warnings | Comments | MPI | OMP | Restarts | Task-Class | Run-Etime |\r\n",
        "+------+-------------+----------+--------+----------+----------+-----+-----+----------+------------+-----------+\r\n",
        "|  t0  |    Ready\u001b[0m    |   None   |  N/A   |   N/A    |   N/A    |  1  |  1  |    0     |  ScfTask   |    None   |\r\n",
        "|  t1  | Initialized\u001b[0m |   None   |  N/A   |   N/A    |   N/A    |  1  |  1  |    0     |  NscfTask  |    None   |\r\n",
        "+------+-------------+----------+--------+----------+----------+-----+-----+----------+------------+-----------+\r\n"
       ]
      },
      {
       "output_type": "stream",
       "stream": "stdout",
       "text": [
        "[Fri Nov 28 19:38:03 2014] Number of launches: 1\r\n",
        "================================================================================\r\n",
        "Work #0: <BandStructureWork, workdir=../../../../../../../../tmp/hello_bands/w0>, Finalized=False\r\n",
        "\r\n",
        "+------+-------------+----------+--------+----------+----------+-----+-----+----------+------------+-----------+\r\n",
        "| Task |    Status   | Queue-id | Errors | Warnings | Comments | MPI | OMP | Restarts | Task-Class | Run-Etime |\r\n",
        "+------+-------------+----------+--------+----------+----------+-----+-----+----------+------------+-----------+\r\n",
        "|  t0  |  \u001b[34mSubmitted\u001b[0m  |   7127   |   0    |    0     |    0     |  2  |  1  |    0     |  ScfTask   |    None   |\r\n",
        "|  t1  | Initialized\u001b[0m |   None   |  N/A   |   N/A    |   N/A    |  1  |  1  |    0     |  NscfTask  |    None   |\r\n",
        "+------+-------------+----------+--------+----------+----------+-----+-----+----------+------------+-----------+\r\n"
       ]
      },
      {
       "output_type": "stream",
       "stream": "stdout",
       "text": [
        "Cannot get njobs_inqueue\r\n",
        "================================================================================\r\n",
        "Work #0: <BandStructureWork, workdir=../../../../../../../../tmp/hello_bands/w0>, Finalized=False\r\n",
        "\r\n",
        "+------+-----------+----------+--------+----------+----------+-----+-----+----------+------------+-----------+\r\n",
        "| Task |   Status  | Queue-id | Errors | Warnings | Comments | MPI | OMP | Restarts | Task-Class | Run-Etime |\r\n",
        "+------+-----------+----------+--------+----------+----------+-----+-----+----------+------------+-----------+\r\n",
        "|  t0  | \u001b[32mCompleted\u001b[0m |   7127   |   0    |    1     |    0     |  2  |  1  |    0     |  ScfTask   |    None   |\r\n",
        "|  t1  |   Ready\u001b[0m   |   None   |  N/A   |   N/A    |   N/A    |  1  |  1  |    0     |  NscfTask  |    None   |\r\n",
        "+------+-----------+----------+--------+----------+----------+-----+-----+----------+------------+-----------+\r\n"
       ]
      },
      {
       "output_type": "stream",
       "stream": "stdout",
       "text": [
        "[Fri Nov 28 19:38:07 2014] Number of launches: 1\r\n",
        "================================================================================\r\n",
        "Work #0: <BandStructureWork, workdir=../../../../../../../../tmp/hello_bands/w0>, Finalized=False\r\n",
        "\r\n",
        "+------+-----------+----------+--------+----------+----------+-----+-----+----------+------------+-----------+\r\n",
        "| Task |   Status  | Queue-id | Errors | Warnings | Comments | MPI | OMP | Restarts | Task-Class | Run-Etime |\r\n",
        "+------+-----------+----------+--------+----------+----------+-----+-----+----------+------------+-----------+\r\n",
        "|  t0  | \u001b[32mCompleted\u001b[0m |   7127   |   0    |    1     |    0     |  2  |  1  |    0     |  ScfTask   |    None   |\r\n",
        "|  t1  | \u001b[34mSubmitted\u001b[0m |   7136   |   0    |    0     |    0     |  2  |  1  |    0     |  NscfTask  |    None   |\r\n",
        "+------+-----------+----------+--------+----------+----------+-----+-----+----------+------------+-----------+\r\n"
       ]
      },
      {
       "output_type": "stream",
       "stream": "stdout",
       "text": [
        "Cannot get njobs_inqueue\r\n"
       ]
      },
      {
       "output_type": "stream",
       "stream": "stdout",
       "text": [
        "================================================================================\r\n",
        "Work #0: <BandStructureWork, workdir=../../../../../../../../tmp/hello_bands/w0>, Finalized=True\r\n",
        "\r\n",
        "================================================================================\r\n",
        "Work #0: <BandStructureWork, workdir=../../../../../../../../tmp/hello_bands/w0>, Finalized=True\r\n",
        "\r\n"
       ]
      },
      {
       "output_type": "stream",
       "stream": "stdout",
       "text": [
        "this should be the shutdown of the scheduler\r\n",
        "Jobstore default:\r\n",
        "    PyFlowScheduler.callback (trigger: interval[0:00:05], next run at: 2014-11-28 19:38:16.615155)\r\n",
        "Jobstore default:\r\n",
        "    No scheduled jobs\r\n"
       ]
      }
     ],
     "prompt_number": 11
    },
    {
     "cell_type": "code",
     "collapsed": false,
     "input": [
      "!abirun.py /tmp/hello_bands status"
     ],
     "language": "python",
     "metadata": {},
     "outputs": [
      {
       "output_type": "stream",
       "stream": "stdout",
       "text": [
        "================================================================================\r\n",
        "Work #0: <BandStructureWork, workdir=../../../../../../../../tmp/hello_bands/w0>, Finalized=True\r\n",
        "\r\n"
       ]
      }
     ],
     "prompt_number": 12
    },
    {
     "cell_type": "code",
     "collapsed": false,
     "input": [],
     "language": "python",
     "metadata": {},
     "outputs": []
    }
   ],
   "metadata": {}
  }
 ]
}