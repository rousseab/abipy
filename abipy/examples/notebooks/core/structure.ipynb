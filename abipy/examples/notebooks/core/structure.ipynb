{
 "metadata": {
  "name": "",
  "signature": "sha256:9d2cbcd9f28ec95b824000eb6e179d4ca2dbae58c9b5c5bab0c9cb07811fe9c5"
 },
 "nbformat": 3,
 "nbformat_minor": 0,
 "worksheets": [
  {
   "cells": [
    {
     "cell_type": "markdown",
     "metadata": {},
     "source": [
      "Back to the main [Index](../index.ipynb)"
     ]
    },
    {
     "cell_type": "markdown",
     "metadata": {},
     "source": [
      "The `AbiPy` structure inherits form `pymatgen` structure \n",
      "and therefore one has access to all the methods and tools already available in `pymatgen`.\n",
      "In this notebook, we mainly focus on the extensions added by `AbiPy`. "
     ]
    },
    {
     "cell_type": "code",
     "collapsed": false,
     "input": [
      "from __future__ import division, print_function, unicode_literals\n",
      "\n",
      "# Import abipy modules\n",
      "from abipy import abilab\n",
      "from abipy.abilab import Structure\n",
      "import abipy.data as abidata\n",
      "\n",
      "# Useful tools we'll need later on.\n",
      "from pprint import pprint\n",
      "import numpy as np\n",
      "\n",
      "# This line configures matplotlib to show figures embedded in the notebook, \n",
      "# instead of poping up a new window. \n",
      "%matplotlib inline"
     ],
     "language": "python",
     "metadata": {},
     "outputs": [],
     "prompt_number": 1
    },
    {
     "cell_type": "heading",
     "level": 2,
     "metadata": {},
     "source": [
      "Reading a structure from file"
     ]
    },
    {
     "cell_type": "markdown",
     "metadata": {},
     "source": [
      "You can read a crystalline structure from different file formats: \n",
      "\n",
      "   * CIF\n",
      "   * POSCAR/CONTCAR\n",
      "   * CHGCAR \n",
      "   * LOCPOT,\n",
      "   * vasprun.xml\n",
      "   * CSSR \n",
      "   * ABINIT Netcdf files \n",
      "   * pymatgen's JSON serialized structures\n",
      "\n",
      "Note, in particular, that one can initialize the structure from any ABINIT Netcdf file \n",
      "(`GSR`, `WFK` etc)."
     ]
    },
    {
     "cell_type": "code",
     "collapsed": false,
     "input": [
      "# Initialize the structure from one of the CIF files shipped with abipy.\n",
      "structure = Structure.from_file(abidata.cif_file(\"si.cif\"))\n",
      "print(structure)"
     ],
     "language": "python",
     "metadata": {},
     "outputs": [
      {
       "output_type": "stream",
       "stream": "stdout",
       "text": [
        "Structure Summary (Si2)\n",
        "Reduced Formula: Si\n",
        "abc   :   3.866975   3.866975   3.866975\n",
        "angles:  60.000000  60.000000  60.000000\n",
        "Sites (2)\n",
        "1 Si     0.000000     0.000000     0.000000\n",
        "2 Si     0.250000     0.250000     0.250000\n"
       ]
      }
     ],
     "prompt_number": 2
    },
    {
     "cell_type": "code",
     "collapsed": false,
     "input": [
      "# Read the structure from a netcdf file\n",
      "structure = Structure.from_file(abidata.ref_file(\"si_nscf_GSR.nc\"))\n",
      "\n",
      "# Use to_abivars to get the list of Abinit variables.\n",
      "pprint(structure.to_abivars())"
     ],
     "language": "python",
     "metadata": {},
     "outputs": [
      {
       "output_type": "stream",
       "stream": "stdout",
       "text": [
        "{'acell': [1.0, 1.0, 1.0],\n",
        " 'natom': 2,\n",
        " 'ntypat': 1,\n",
        " 'rprim': array([[ 6.32850055,  0.        ,  3.6537615 ],\n",
        "       [ 2.10950018,  5.96656754,  3.6537615 ],\n",
        "       [ 0.        ,  0.        ,  7.30752299]]) bohr,\n",
        " 'typat': array([1, 1]),\n",
        " 'xred': array([[ 0.  ,  0.  ,  0.  ],\n",
        "       [ 0.25,  0.25,  0.25]]),\n",
        " 'znucl': [14]}\n"
       ]
      }
     ],
     "prompt_number": 3
    },
    {
     "cell_type": "markdown",
     "metadata": {},
     "source": [
      "To get a structure from the materials project database \n",
      "(https://www.materialsproject.org/)"
     ]
    },
    {
     "cell_type": "code",
     "collapsed": false,
     "input": [
      "# You can pass the api_key or set the env variable MAPI_KEY in your bashrc.\n",
      "print(Structure.from_material_id(\"mp-149\", api_key=None))"
     ],
     "language": "python",
     "metadata": {},
     "outputs": [
      {
       "output_type": "stream",
       "stream": "stdout",
       "text": [
        "Structure Summary (Si2)\n",
        "Reduced Formula: Si\n",
        "abc   :   3.866975   3.866975   3.866975\n",
        "angles:  60.000000  60.000000  60.000000\n",
        "Sites (2)\n",
        "1 Si     0.875000     0.875000     0.875000\n",
        "2 Si     0.125000     0.125000     0.125000\n"
       ]
      }
     ],
     "prompt_number": 4
    },
    {
     "cell_type": "heading",
     "level": 2,
     "metadata": {},
     "source": [
      "Converting to other formats"
     ]
    },
    {
     "cell_type": "markdown",
     "metadata": {},
     "source": [
      "Use structure.convert(format) to get the string representation in the new format."
     ]
    },
    {
     "cell_type": "code",
     "collapsed": false,
     "input": [
      "for format in [\"cif\", \"POSCAR\"]:\n",
      "    print((\" Abinit --> %s \" % format).center(80, \"*\"))\n",
      "    s = structure.convert(format=format)\n",
      "    print(s)"
     ],
     "language": "python",
     "metadata": {},
     "outputs": [
      {
       "output_type": "stream",
       "stream": "stdout",
       "text": [
        "******************************** Abinit --> cif ********************************\n",
        "#generated using pymatgen\n",
        "data_Si\n",
        "_symmetry_space_group_name_H-M   'P 1'\n",
        "_cell_length_a   3.86697462\n",
        "_cell_length_b   3.86697462\n",
        "_cell_length_c   3.86697462\n",
        "_cell_angle_alpha   60.00000000\n",
        "_cell_angle_beta   60.00000000\n",
        "_cell_angle_gamma   60.00000000\n",
        "_symmetry_Int_Tables_number   1\n",
        "_chemical_formula_structural   Si\n",
        "_chemical_formula_sum   Si2\n",
        "_cell_volume   40.8882917266\n",
        "_cell_formula_units_Z   2\n",
        "loop_\n",
        " _symmetry_equiv_pos_site_id\n",
        " _symmetry_equiv_pos_as_xyz\n",
        "  1  'x, y, z'\n",
        "loop_\n",
        " _atom_site_type_symbol\n",
        " _atom_site_label\n",
        " _atom_site_symmetry_multiplicity\n",
        " _atom_site_fract_x\n",
        " _atom_site_fract_y\n",
        " _atom_site_fract_z\n",
        " _atom_site_occupancy\n",
        "  Si  Si1  1  0.000000  0.000000  0.000000  1\n",
        "  Si  Si2  1  0.250000  0.250000  0.250000  1\n",
        "\n",
        "****************************** Abinit --> POSCAR *******************************\n",
        "Si2\n",
        "1.0\n",
        "3.348898 0.000000 1.933487\n",
        "1.116299 3.157372 1.933487\n",
        "0.000000 0.000000 3.866975\n",
        "Si\n",
        "2\n",
        "direct\n",
        "0.000000 0.000000 0.000000 Si\n",
        "0.250000 0.250000 0.250000 Si\n",
        "\n"
       ]
      }
     ],
     "prompt_number": 5
    },
    {
     "cell_type": "markdown",
     "metadata": {},
     "source": [
      "See also `abistruct.py` for a handy command line interface."
     ]
    },
    {
     "cell_type": "code",
     "collapsed": false,
     "input": [
      "!abistruct.py --help"
     ],
     "language": "python",
     "metadata": {},
     "outputs": [
      {
       "output_type": "stream",
       "stream": "stdout",
       "text": [
        "usage: abistruct.py [-h] [filepath] {convert,visualize} ...\r\n",
        "\r\n",
        "positional arguments:\r\n",
        "  filepath             Netcdf file with the crystalline structure\r\n",
        "\r\n",
        "optional arguments:\r\n",
        "  -h, --help           show this help message and exit\r\n",
        "\r\n",
        "subcommands:\r\n",
        "  Valid subcommands\r\n",
        "\r\n",
        "  {convert,visualize}  sub-command help\r\n",
        "    convert            Convert structure to the specified format.\r\n",
        "    visualize          Visualize the structure with the specified visualizer\r\n",
        "\r\n",
        "Usage example:\r\n",
        "\r\n",
        "    abistruct.py NCFILE convert cif         => Read the structure from the netcdf FILE.nc, \r\n",
        "                                               create the CIF file.\r\n",
        "    abistruct.py NCFILE visualize xcrysden  => Visualize the structure with XcrysDen.\r\n",
        "Usage example:\r\n",
        "\r\n",
        "\r\n",
        "    abistruct.py NCFILE convert cif         => Read the structure from the netcdf FILE.nc, \r\n",
        "                                               create the CIF file.\r\n",
        "    abistruct.py NCFILE visualize xcrysden  => Visualize the structure with XcrysDen.\r\n"
       ]
      }
     ],
     "prompt_number": 2
    },
    {
     "cell_type": "heading",
     "level": 2,
     "metadata": {},
     "source": [
      "Getting information on the structure"
     ]
    },
    {
     "cell_type": "markdown",
     "metadata": {},
     "source": [
      "To visualize the structure with an external applications:"
     ]
    },
    {
     "cell_type": "code",
     "collapsed": false,
     "input": [
      "retcode = structure.visualize(\"xcrysden\")\n",
      "\n",
      "# List of visualizers supported.\n",
      "print(abilab.Visualizer.all_visunames())"
     ],
     "language": "python",
     "metadata": {},
     "outputs": [
      {
       "output_type": "stream",
       "stream": "stdout",
       "text": [
        "[u'xcrysden', u'v_sim', u'vesta']\n"
       ]
      }
     ],
     "prompt_number": 6
    },
    {
     "cell_type": "code",
     "collapsed": false,
     "input": [
      "print(structure.reciprocal_lattice)"
     ],
     "language": "python",
     "metadata": {},
     "outputs": [
      {
       "output_type": "stream",
       "stream": "stdout",
       "text": [
        "1.876195 -0.663335 0.000000\n",
        "0.000000 1.990005 0.000000\n",
        "-0.938097 -0.663335 1.624832\n"
       ]
      }
     ],
     "prompt_number": 7
    },
    {
     "cell_type": "code",
     "collapsed": false,
     "input": [
      "# List of high-symmetry k-points.\n",
      "print(structure.hsym_kpoints)"
     ],
     "language": "python",
     "metadata": {},
     "outputs": [
      {
       "output_type": "stream",
       "stream": "stdout",
       "text": [
        "0) [0.000, 0.000, 0.000], name = $\\Gamma$, weight = 0.000000\n",
        "1) [0.500, 0.000, 0.500], name = X, weight = 0.000000\n",
        "2) [0.500, 0.250, 0.750], name = W, weight = 0.000000\n",
        "3) [0.375, 0.375, 0.750], name = K, weight = 0.000000\n",
        "4) [0.000, 0.000, 0.000], name = $\\Gamma$, weight = 0.000000\n",
        "5) [0.500, 0.500, 0.500], name = L, weight = 0.000000\n",
        "6) [0.625, 0.250, 0.625], name = U, weight = 0.000000\n",
        "7) [0.500, 0.250, 0.750], name = W, weight = 0.000000\n",
        "8) [0.500, 0.500, 0.500], name = L, weight = 0.000000\n",
        "9) [0.375, 0.375, 0.750], name = K, weight = 0.000000\n",
        "10) [0.625, 0.250, 0.625], name = U, weight = 0.000000\n",
        "11) [0.500, 0.000, 0.500], name = X, weight = 0.000000\n"
       ]
      }
     ],
     "prompt_number": 8
    },
    {
     "cell_type": "markdown",
     "metadata": {},
     "source": [
      "The method `calc_ksampling` allows one to get an efficient sampling of the Brillouin zone \n",
      "by just specifying the number of divisions to be used for the smallest lattice vector of the reciprocal lattice."
     ]
    },
    {
     "cell_type": "code",
     "collapsed": false,
     "input": [
      "pprint(structure.calc_ksampling(nksmall=10))"
     ],
     "language": "python",
     "metadata": {},
     "outputs": [
      {
       "output_type": "stream",
       "stream": "stdout",
       "text": [
        "{'ngkpt': array([10, 10, 10]),\n",
        " 'shiftk': array([[ 0.5,  0.5,  0.5],\n",
        "       [ 0.5,  0. ,  0. ],\n",
        "       [ 0. ,  0.5,  0. ],\n",
        "       [ 0. ,  0. ,  0.5]])}\n"
       ]
      }
     ],
     "prompt_number": 9
    },
    {
     "cell_type": "markdown",
     "metadata": {},
     "source": [
      "To get a possible high symmetry $k$-path in reduced coordinates:"
     ]
    },
    {
     "cell_type": "code",
     "collapsed": false,
     "input": [
      "structure.calc_kptbounds()"
     ],
     "language": "python",
     "metadata": {},
     "outputs": [
      {
       "metadata": {},
       "output_type": "pyout",
       "prompt_number": 10,
       "text": [
        "array([[ 0.   ,  0.   ,  0.   ],\n",
        "       [ 0.5  ,  0.   ,  0.5  ],\n",
        "       [ 0.5  ,  0.25 ,  0.75 ],\n",
        "       [ 0.375,  0.375,  0.75 ],\n",
        "       [ 0.   ,  0.   ,  0.   ],\n",
        "       [ 0.5  ,  0.5  ,  0.5  ],\n",
        "       [ 0.625,  0.25 ,  0.625],\n",
        "       [ 0.5  ,  0.25 ,  0.75 ],\n",
        "       [ 0.5  ,  0.5  ,  0.5  ],\n",
        "       [ 0.375,  0.375,  0.75 ],\n",
        "       [ 0.625,  0.25 ,  0.625],\n",
        "       [ 0.5  ,  0.   ,  0.5  ]])"
       ]
      }
     ],
     "prompt_number": 10
    },
    {
     "cell_type": "markdown",
     "metadata": {},
     "source": [
      "To visualize the Brillouin zone with matplotlib:"
     ]
    },
    {
     "cell_type": "code",
     "collapsed": false,
     "input": [
      "fig = structure.show_bz()"
     ],
     "language": "python",
     "metadata": {},
     "outputs": [
      {
       "metadata": {},
       "output_type": "display_data",
       "png": "[encoded data removed]",
       "text": [
        "<matplotlib.figure.Figure at 0x10e6c7210>"
       ]
      }
     ],
     "prompt_number": 11
    },
    {
     "cell_type": "markdown",
     "metadata": {},
     "source": [
      "To get he number of valence electrons for a given set of pseudopotentials: "
     ]
    },
    {
     "cell_type": "code",
     "collapsed": false,
     "input": [
      "structure.num_valence_electrons(pseudos=abidata.pseudos(\"14si.pspnc\"))"
     ],
     "language": "python",
     "metadata": {},
     "outputs": [
      {
       "metadata": {},
       "output_type": "pyout",
       "prompt_number": 12,
       "text": [
        "8.0"
       ]
      }
     ],
     "prompt_number": 12
    },
    {
     "cell_type": "heading",
     "level": 2,
     "metadata": {},
     "source": [
      "How to modify structures"
     ]
    },
    {
     "cell_type": "markdown",
     "metadata": {},
     "source": [
      "Once you have a `Structure` object, you can perform several operations on it. For example, you can build a supercell or increase the volume of the unit cell. Python will simplify you work and, as a side effect, you will get a new object that can be immediately converted into the ABINIT format. In order to modify a structure, you have to instantiate a `StructureModifier` object that will allow you to perform several types of operations with a user-friendly interface"
     ]
    },
    {
     "cell_type": "code",
     "collapsed": false,
     "input": [
      "modifier = abilab.StructureModifier(structure)"
     ],
     "language": "python",
     "metadata": {},
     "outputs": [],
     "prompt_number": 13
    },
    {
     "cell_type": "markdown",
     "metadata": {},
     "source": [
      "To create a supercell, use:"
     ]
    },
    {
     "cell_type": "code",
     "collapsed": false,
     "input": [
      "new_structure = modifier.make_supercell(scaling_matrix=[1, 2, 3])\n",
      "print(new_structure)"
     ],
     "language": "python",
     "metadata": {},
     "outputs": [
      {
       "output_type": "stream",
       "stream": "stdout",
       "text": [
        "Structure Summary (Si12)\n",
        "Reduced Formula: Si\n",
        "abc   :   3.866975   7.733949  11.600924\n",
        "angles:  60.000000  60.000000  60.000000\n",
        "Sites (12)\n",
        "1 Si     0.000000     0.000000     0.000000\n",
        "2 Si     0.000000     0.000000     0.333333\n",
        "3 Si     0.000000     0.000000     0.666667\n",
        "4 Si     0.000000     0.500000     0.000000\n",
        "5 Si     0.000000     0.500000     0.333333\n",
        "6 Si     0.000000     0.500000     0.666667\n",
        "7 Si     0.250000     0.125000     0.083333\n",
        "8 Si     0.250000     0.125000     0.416667\n",
        "9 Si     0.250000     0.125000     0.750000\n",
        "10 Si     0.250000     0.625000     0.083333\n",
        "11 Si     0.250000     0.625000     0.416667\n",
        "12 Si     0.250000     0.625000     0.750000\n"
       ]
      }
     ],
     "prompt_number": 14
    },
    {
     "cell_type": "markdown",
     "metadata": {},
     "source": [
      "To perform a homogeneous dilatation of the lattice, use:"
     ]
    },
    {
     "cell_type": "code",
     "collapsed": false,
     "input": [
      "# From 98% to 102% of the initial volume (104 is not a typo!)\n",
      "new_structures = modifier.scale_lattice(vol_ratios=np.arange(98, 104, 2) / 100.)\n",
      "for s in new_structures: \n",
      "    print(s, \"\\nvolume\", s.lattice.volume, \"\\n\")"
     ],
     "language": "python",
     "metadata": {},
     "outputs": [
      {
       "output_type": "stream",
       "stream": "stdout",
       "text": [
        "Structure Summary (Si2)\n",
        "Reduced Formula: Si\n",
        "abc   :   3.841021   3.841021   3.841021\n",
        "angles:  60.000000  60.000000  60.000000\n",
        "Sites (2)\n",
        "1 Si     0.000000     0.000000     0.000000\n",
        "2 Si     0.250000     0.250000     0.250000 \n",
        "volume 40.070525892 \n",
        "\n",
        "Structure Summary (Si2)\n",
        "Reduced Formula: Si\n",
        "abc   :   3.866975   3.866975   3.866975\n",
        "angles:  60.000000  60.000000  60.000000\n",
        "Sites (2)\n",
        "1 Si     0.000000     0.000000     0.000000\n",
        "2 Si     0.250000     0.250000     0.250000 \n",
        "volume 40.8882917266 \n",
        "\n",
        "Structure Summary (Si2)\n",
        "Reduced Formula: Si\n",
        "abc   :   3.892584   3.892584   3.892584\n",
        "angles:  60.000000  60.000000  60.000000\n",
        "Sites (2)\n",
        "1 Si     0.000000     0.000000     0.000000\n",
        "2 Si     0.250000     0.250000     0.250000 \n",
        "volume 41.7060575611 \n",
        "\n"
       ]
      }
     ],
     "prompt_number": 29
    }
   ],
   "metadata": {}
  }
 ]
}