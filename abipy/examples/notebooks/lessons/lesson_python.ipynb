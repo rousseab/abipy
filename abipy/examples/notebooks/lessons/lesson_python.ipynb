{
 "metadata": {
  "name": "",
  "signature": "sha256:bcc2c810a1961b34ff0c16e08ea79c5e0bc9835db7d5e397bdfa934c89543b0b"
 },
 "nbformat": 3,
 "nbformat_minor": 0,
 "worksheets": [
  {
   "cells": [
    {
     "cell_type": "markdown",
     "metadata": {},
     "source": [
      "Back to the main [Index](../index.ipynb)"
     ]
    },
    {
     "cell_type": "code",
     "collapsed": false,
     "input": [
      "from __future__ import print_function, division"
     ],
     "language": "python",
     "metadata": {},
     "outputs": [],
     "prompt_number": 1
    },
    {
     "cell_type": "markdown",
     "metadata": {},
     "source": [
      "What every AbiPy user should know about python\n",
      "==============================================\n",
      "\n",
      "This is an extremely short tutorial on python that uses examples \n",
      "taken from abipy to help you understand better the next lessons.\n",
      "At the end of this lesson, you should get a grasp of the the most important objects used in AbiPy.\n",
      "\n",
      "This notebook **does not** aim to give you a complete and consistent introduction to\n",
      "the python language.\n",
      "For a real crash course in python, we refer the reader to this excellent \n",
      "[notebook](http://nbviewer.ipython.org/gist/rpmuller/5920182)"
     ]
    },
    {
     "cell_type": "markdown",
     "metadata": {},
     "source": [
      "The dot '.'\n",
      "-----------\n",
      "\n",
      "If you are new to object oriented programming the *dot* may be a new construction. In python everything is an *object* and objects can have *properties* and *methods*. \n",
      "With the dot we select the property or the method associated to an object. \n",
      "\n",
      "The main difference between properties and methods is that methods receive arguments\n",
      "so you have to call them with the syntax `aobject.amethod(...)` where `...` is the list\n",
      "of arguments passed to the method (may be empty).\n",
      "On the contrary, one uses the syntax `aobject.aproperty` to access the property of `aobject`.\n",
      "\n",
      "For instance, the list:"
     ]
    },
    {
     "cell_type": "code",
     "collapsed": false,
     "input": [
      "a = [2, 3, 1]"
     ],
     "language": "python",
     "metadata": {},
     "outputs": [],
     "prompt_number": 20
    },
    {
     "cell_type": "markdown",
     "metadata": {},
     "source": [
      "provides the `sort` method that sorts the elements in `a` in place:"
     ]
    },
    {
     "cell_type": "code",
     "collapsed": false,
     "input": [
      "a.sort()\n",
      "a"
     ],
     "language": "python",
     "metadata": {},
     "outputs": [
      {
       "metadata": {},
       "output_type": "pyout",
       "prompt_number": 21,
       "text": [
        "[1, 2, 3]"
       ]
      }
     ],
     "prompt_number": 21
    },
    {
     "cell_type": "markdown",
     "metadata": {},
     "source": [
      "Note that we are calling `sort` without arguments but actually the `sort` method \n",
      "accepts optional arguments that can be used to modify the default behaviour.\n",
      "If we want to sort the items in `a` from the biggest to the smallest, we have to use:  "
     ]
    },
    {
     "cell_type": "code",
     "collapsed": false,
     "input": [
      "a.sort(reverse=True)\n",
      "a"
     ],
     "language": "python",
     "metadata": {},
     "outputs": [
      {
       "metadata": {},
       "output_type": "pyout",
       "prompt_number": 22,
       "text": [
        "[3, 2, 1]"
       ]
      }
     ],
     "prompt_number": 22
    },
    {
     "cell_type": "markdown",
     "metadata": {},
     "source": [
      "The `help` function allows one to get the so-called docstring \n",
      "that documents the usage of the object: "
     ]
    },
    {
     "cell_type": "code",
     "collapsed": false,
     "input": [
      "help(a.sort)"
     ],
     "language": "python",
     "metadata": {},
     "outputs": [
      {
       "output_type": "stream",
       "stream": "stdout",
       "text": [
        "Help on built-in function sort:\n",
        "\n",
        "sort(...)\n",
        "    L.sort(cmp=None, key=None, reverse=False) -- stable sort *IN PLACE*;\n",
        "    cmp(x, y) -> -1, 0, 1\n",
        "\n"
       ]
      }
     ],
     "prompt_number": 23
    },
    {
     "cell_type": "markdown",
     "metadata": {},
     "source": [
      "In ipython you can use the alternative syntax `a.sort?` to display the docstring.\n",
      "You can even access the source code if `?` is replaced by `??` and the source code is available \n",
      "(some low-level python objects are implemented directly in the C language. \n",
      "In this case you cannot access the source from python with `??`)."
     ]
    },
    {
     "cell_type": "markdown",
     "metadata": {},
     "source": [
      "Importing modules\n",
      "-----------------\n",
      "\n",
      "To use objects defined in python modules, we need to *import* the module with the syntax:"
     ]
    },
    {
     "cell_type": "code",
     "collapsed": false,
     "input": [
      "import sys"
     ],
     "language": "python",
     "metadata": {},
     "outputs": [],
     "prompt_number": 24
    },
    {
     "cell_type": "markdown",
     "metadata": {},
     "source": [
      "Now we can access all the entities defined in the `sys` module with the `dot` syntax:"
     ]
    },
    {
     "cell_type": "code",
     "collapsed": false,
     "input": [
      "# attribute of sys\n",
      "sys.version"
     ],
     "language": "python",
     "metadata": {},
     "outputs": [
      {
       "metadata": {},
       "output_type": "pyout",
       "prompt_number": 25,
       "text": [
        "'2.7.6 | 64-bit | (default, Sep 15 2014, 17:43:19) \\n[GCC 4.2.1 (Apple Inc. build 5666) (dot 3)]'"
       ]
      }
     ],
     "prompt_number": 25
    },
    {
     "cell_type": "code",
     "collapsed": false,
     "input": [
      "# method declared in the sys module\n",
      "sys.getdefaultencoding()"
     ],
     "language": "python",
     "metadata": {},
     "outputs": [
      {
       "metadata": {},
       "output_type": "pyout",
       "prompt_number": 26,
       "text": [
        "'ascii'"
       ]
      }
     ],
     "prompt_number": 26
    },
    {
     "cell_type": "markdown",
     "metadata": {},
     "source": [
      "Remember: in python everyting is an object, even modules. Therefore modules have methods (functions) and properties (variables defined in this namespace)."
     ]
    },
    {
     "cell_type": "markdown",
     "metadata": {},
     "source": [
      "Sometimes we have to import modules that are defined inside other modules (sub-packages).\n",
      "In this case, one can use the syntax:"
     ]
    },
    {
     "cell_type": "code",
     "collapsed": false,
     "input": [
      "import abipy.abilab as abilab"
     ],
     "language": "python",
     "metadata": {},
     "outputs": [],
     "prompt_number": 27
    },
    {
     "cell_type": "markdown",
     "metadata": {},
     "source": [
      "that allows us to use `abilab` as reference to the module instead of the full qualified \n",
      "name `abipy.abilab`."
     ]
    },
    {
     "cell_type": "markdown",
     "metadata": {},
     "source": [
      "`Classes` and `instances`\n",
      "-------------------------"
     ]
    },
    {
     "cell_type": "markdown",
     "metadata": {},
     "source": [
      "A class is a mechanism Python gives us to create new user-defined types from Python code whereas\n",
      "instances are the objects created starting from a class.\n",
      "A common convention in python is to use `CamelCase` names for classes and lower case names for instances."
     ]
    },
    {
     "cell_type": "code",
     "collapsed": false,
     "input": [
      "class FooClass(object):\n",
      "    \"\"\"A very simple class\"\"\"\n",
      "    \n",
      "# Create an instance of type Foo.\n",
      "foo_instance = FooClass()\n",
      "\n",
      "print(foo_instance, FooClass)"
     ],
     "language": "python",
     "metadata": {},
     "outputs": [
      {
       "output_type": "stream",
       "stream": "stdout",
       "text": [
        "<__main__.FooClass object at 0x10dabc2d0> <class '__main__.FooClass'>\n"
       ]
      }
     ],
     "prompt_number": 28
    },
    {
     "cell_type": "markdown",
     "metadata": {},
     "source": [
      "So, `foo_instance` is an instance of the type `FooClass`.\n",
      "Once equipped with these concepts, we can finally discuss the following piece of code: "
     ]
    },
    {
     "cell_type": "code",
     "collapsed": false,
     "input": [
      "import abipy.data as abidata\n",
      "cif_file = abidata.cif_file(\"si.cif\")\n",
      "\n",
      "import abipy.abilab as abilab\n",
      "structure = abilab.Structure.from_file(cif_file)"
     ],
     "language": "python",
     "metadata": {},
     "outputs": [],
     "prompt_number": 12
    },
    {
     "cell_type": "markdown",
     "metadata": {},
     "source": [
      "`abipy.data` is an abipy module and `cif_file` is a function (defined in this module)\n",
      "that returns the absolute path of the CIF file \"si.cif\".\n",
      "Since we don't want to type `abipy.data` every time we need it, we create the alias `abidata` \n",
      "so that we can simply use `abidata.cif_file` instead of the more verbose `abipy.data.cif_file`.\n",
      "\n",
      "`abipy.abilab` is a high-level AbiPy module that provides the most important functions and objects for end-users. Also in this case we create a handy alias, `abilab`, to reduce time typing.\n",
      "\n",
      "The last line (the most important) constructs an instance of type `Structure` from a string giving\n",
      "the absolute path to a CIF file.\n",
      "Let's use `print` to dissect the different objects:"
     ]
    },
    {
     "cell_type": "code",
     "collapsed": false,
     "input": [
      "print(\"abidata is: \", type(abidata))\n",
      "print(\"abidata.cif_file is: \", type(abidata.cif_file))\n",
      "print(\"Structure is: \", type(abilab.Structure))\n",
      "print(\"Structure.from_file is: \", type(abilab.Structure.from_file))\n",
      "print(\"structure is an instance of type \", type(structure))"
     ],
     "language": "python",
     "metadata": {},
     "outputs": [
      {
       "output_type": "stream",
       "stream": "stdout",
       "text": [
        "abidata is:  <type 'module'>\n",
        "abidata.cif_file is:  <type 'function'>\n",
        "Structure is:  <class 'abc.ABCMeta'>\n",
        "Structure.from_file is:  <type 'instancemethod'>\n",
        "structure is an instance of type  <class 'abipy.core.structure.Structure'>\n"
       ]
      }
     ],
     "prompt_number": 13
    },
    {
     "cell_type": "markdown",
     "metadata": {},
     "source": [
      "The main message here is that `abilab.Structure.from_file` has created an `instance` of the *class* `Structure`  from a CIF file.\n",
      "We can now have access to all the properties and methods provided by this object:"
     ]
    },
    {
     "cell_type": "code",
     "collapsed": false,
     "input": [
      "print(\"Unit cell volume: \", structure.volume)\n",
      "print(\"Reciprocal lattice vectors:\\n\", structure.reciprocal_lattice)"
     ],
     "language": "python",
     "metadata": {},
     "outputs": [
      {
       "output_type": "stream",
       "stream": "stdout",
       "text": [
        "Unit cell volume:  40.8882917935\n",
        "Reciprocal lattice vectors:\n",
        " -0.938097 -0.663335 -1.624832\n",
        "-0.938097 -0.663335 1.624832\n",
        "-0.000000 1.990005 0.000000\n"
       ]
      }
     ],
     "prompt_number": 14
    },
    {
     "cell_type": "markdown",
     "metadata": {},
     "source": [
      "Dissecting objects\n",
      "------------------\n",
      "\n",
      "The first think you should do when you have some python object you don't know how to use\n",
      "is **printing** the object:"
     ]
    },
    {
     "cell_type": "code",
     "collapsed": false,
     "input": [
      "print(structure)"
     ],
     "language": "python",
     "metadata": {},
     "outputs": [
      {
       "output_type": "stream",
       "stream": "stdout",
       "text": [
        "Full Formula (Si2)\n",
        "Reduced Formula: Si\n",
        "abc   :   3.866975   3.866975   3.866975\n",
        "angles:  60.000000  60.000000  60.000000\n",
        "Sites (2)\n",
        "0 Si     0.000000     0.000000     0.000000\n",
        "1 Si     0.250000     0.250000     0.250000\n"
       ]
      }
     ],
     "prompt_number": 15
    },
    {
     "cell_type": "markdown",
     "metadata": {},
     "source": [
      "If you want to know the class who has generated your object, use `type`:"
     ]
    },
    {
     "cell_type": "code",
     "collapsed": false,
     "input": [
      "type(structure)"
     ],
     "language": "python",
     "metadata": {},
     "outputs": [
      {
       "metadata": {},
       "output_type": "pyout",
       "prompt_number": 16,
       "text": [
        "abipy.core.structure.Structure"
       ]
      }
     ],
     "prompt_number": 16
    },
    {
     "cell_type": "markdown",
     "metadata": {},
     "source": [
      "Use `help` if you want to get the documentation of the object: "
     ]
    },
    {
     "cell_type": "code",
     "collapsed": false,
     "input": [
      "help(abilab.Structure.from_file)"
     ],
     "language": "python",
     "metadata": {},
     "outputs": [
      {
       "output_type": "stream",
       "stream": "stdout",
       "text": [
        "Help on method from_file in module abipy.core.structure:\n",
        "\n",
        "from_file(cls, filepath, primitive=True, sort=False) method of abc.ABCMeta instance\n",
        "    Reads a structure from a file. For example, anything ending in\n",
        "    a \"cif\" is assumed to be a Crystallographic Information Format file.\n",
        "    Supported formats include CIF, POSCAR/CONTCAR, CHGCAR, LOCPOT,\n",
        "    vasprun.xml, CSSR, Netcdf and pymatgen's JSON serialized structures.\n",
        "    \n",
        "    Netcdf files supported:\n",
        "        All files produced by ABINIT with info of the crystalline geometry \n",
        "        HIST_FILEs, in this case the last structure of the history is returned.\n",
        "    \n",
        "    Args:\n",
        "        filename (str): The filename to read from.\n",
        "        primitive (bool): Whether to convert to a primitive cell\n",
        "            Only available for cifs, POSCAR, CSSR, JSON, YAML\n",
        "            Defaults to True.\n",
        "        sort (bool): Whether to sort sites. Default to False.\n",
        "    \n",
        "    Returns:\n",
        "        :class:`Structure` object\n",
        "\n"
       ]
      }
     ],
     "prompt_number": 19
    },
    {
     "cell_type": "markdown",
     "metadata": {},
     "source": [
      "Use `dir(object)` to list the properties and the methods of object"
     ]
    },
    {
     "cell_type": "code",
     "collapsed": false,
     "input": [
      "a = [1,2,3]\n",
      "print(dir(a))"
     ],
     "language": "python",
     "metadata": {},
     "outputs": [
      {
       "output_type": "stream",
       "stream": "stdout",
       "text": [
        "['__add__', '__class__', '__contains__', '__delattr__', '__delitem__', '__delslice__', '__doc__', '__eq__', '__format__', '__ge__', '__getattribute__', '__getitem__', '__getslice__', '__gt__', '__hash__', '__iadd__', '__imul__', '__init__', '__iter__', '__le__', '__len__', '__lt__', '__mul__', '__ne__', '__new__', '__reduce__', '__reduce_ex__', '__repr__', '__reversed__', '__rmul__', '__setattr__', '__setitem__', '__setslice__', '__sizeof__', '__str__', '__subclasshook__', 'append', 'count', 'extend', 'index', 'insert', 'pop', 'remove', 'reverse', 'sort']\n"
       ]
      }
     ],
     "prompt_number": 29
    }
   ],
   "metadata": {}
  }
 ]
}