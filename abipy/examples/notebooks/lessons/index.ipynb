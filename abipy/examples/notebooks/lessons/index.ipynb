{
 "metadata": {
  "name": "",
  "signature": "sha256:09d41abbe8f32a853341d5c7a84c6c7955f0d0368fce31c7927192651b2a2138"
 },
 "nbformat": 3,
 "nbformat_minor": 0,
 "worksheets": [
  {
   "cells": [
    {
     "cell_type": "markdown",
     "metadata": {},
     "source": [
      "Back to the main [Index](../index.ipynb)"
     ]
    },
    {
     "cell_type": "heading",
     "level": 2,
     "metadata": {},
     "source": [
      "AbiPy Lessons"
     ]
    },
    {
     "cell_type": "markdown",
     "metadata": {},
     "source": [
      "* [Brief introduction to Python](lesson_python.ipynb)\n",
      "* [Convergence study wrt to the $k$-point sampling](lesson_kpoint_convergence.ipynb) \n",
      "* [Convergence study wrt ecut](lesson_ecut_convergence.ipynb)\n",
      "* [Structural relaxation](lesson_relaxation.ipynb) \n",
      "* [Band energies and DOS](lesson_dos_bands.ipynb)\n",
      "* [$G_0W_0$ band structure with an energy-dependent scissors operator](lesson_g0w0_scissors.ipynb)\n",
      "* [Inclusion of excitonic effects in the dielectric function with the Bethe-Salpeter equation](lesson_bse.ipynb)\n",
      "* [Phonons, dielectric tensor and Born effective charges from DFPT](lesson_dfpt.ipynb)"
     ]
    }
   ],
   "metadata": {}
  }
 ]
}