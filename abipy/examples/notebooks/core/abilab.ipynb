{
 "metadata": {
  "name": "",
  "signature": "sha256:cdfad528625d56a02747fad16bf97ae5637acf1ffcd44fbf0da94a023a44c592"
 },
 "nbformat": 3,
 "nbformat_minor": 0,
 "worksheets": [
  {
   "cells": [
    {
     "cell_type": "markdown",
     "metadata": {},
     "source": [
      "Back to the main [Index](../index.ipynb)"
     ]
    },
    {
     "cell_type": "code",
     "collapsed": false,
     "input": [
      "from __future__ import division, print_function, unicode_literals\n",
      "from abipy.abilab import *\n",
      "\n",
      "%matplotlib inline"
     ],
     "language": "python",
     "metadata": {},
     "outputs": [],
     "prompt_number": 21
    },
    {
     "cell_type": "heading",
     "level": 1,
     "metadata": {},
     "source": [
      "ABINIT documentation"
     ]
    },
    {
     "cell_type": "code",
     "collapsed": false,
     "input": [
      "# To get the database of ABINIT variables\n",
      "database = get_abinit_variables()"
     ],
     "language": "python",
     "metadata": {},
     "outputs": [],
     "prompt_number": 22
    },
    {
     "cell_type": "code",
     "collapsed": false,
     "input": [
      "# Documentation for ecut\n",
      "database[\"ecut\"]"
     ],
     "language": "python",
     "metadata": {},
     "outputs": [
      {
       "html": [
        "<h2>Default value:</h2>None<br/><h2>Description</h2><p>\n",
        " Used for kinetic energy cutoff\n",
        "which controls number\n",
        "of planewaves at given k point by:\n",
        " <br />\n",
        " (1/2)[(2 Pi)*(k+Gmax)]\n",
        " <sup>\n",
        "  2\n",
        " </sup>\n",
        " =<b>ecut</b> for Gmax.\n",
        " <br />\n",
        " All planewaves inside this \"basis sphere\" centered\n",
        "at k are included in the basis (except if <b>dilatmx</b>\n",
        "is defined).\n",
        " <br />\n",
        " Can be specified in Ha (the default), Ry, eV or Kelvin, since\n",
        "<b>ecut</b> has the\n",
        "'<b>ENERGY</b>' characteristics.\n",
        "(1 Ha=27.2113845 eV)\n",
        " <br />\n",
        " This is the single parameter which can have an enormous\n",
        "effect on the quality of a calculation; basically the larger\n",
        "<b>ecut</b> is, the better converged the calculation is.  For fixed\n",
        "geometry, the total energy MUST always decrease as <b>ecut</b> is\n",
        "raised because of the variational nature of the problem.\n",
        "</p>\n",
        "<p>\n",
        " <i>\n",
        "  Usually one runs at least several calculations at various <b>ecut</b>\n",
        "to investigate the convergence needed for reliable results.\n",
        " </i>\n",
        "</p>\n",
        "<p>\n",
        " For k-points whose coordinates are build from 0 or 1/2,\n",
        "the implementation of time-reversal symmetry that links\n",
        "coefficients of the wavefunctions in reciprocal space\n",
        "has been realized. See the input variable <b>istwfk</b>.\n",
        "If activated (which corresponds to the Default mode),\n",
        "this input variable <b>istwfk</b> will allow to\n",
        "divide the number of plane wave (npw) treated explicitly\n",
        "by a factor of two. Still, the final result should be identical with\n",
        "the 'full' set of plane waves.\n",
        "</p>\n",
        "<p>\n",
        " See the input variable <b>ecutsm</b>, for the\n",
        "smoothing of the kinetic energy, needed to optimize unit cell parameters.\n",
        "</p>"
       ],
       "metadata": {},
       "output_type": "pyout",
       "prompt_number": 9,
       "text": [
        "ecut  <Energy CUToff>"
       ]
      }
     ],
     "prompt_number": 9
    },
    {
     "cell_type": "code",
     "collapsed": false,
     "input": [
      "# List of variables related to ecut\n",
      "database.apropos(\"ecut\")"
     ],
     "language": "python",
     "metadata": {},
     "outputs": [
      {
       "metadata": {},
       "output_type": "pyout",
       "prompt_number": 6,
       "text": [
        "[accuracy  <ACCURACY>,\n",
        " bs_haydock_niter  <Bethe-Salpeter HAYDOCK Number of Iterations>,\n",
        " bs_haydock_tol  <Bethe-Salpeter HAYDOCK TOLerance>,\n",
        " cd_frqim_method  <Contour Deformation Imaginary Frequency integration Method>,\n",
        " diecut  <DIElectric matrix Energy CUToff>,\n",
        " dilatmx  <DILATation : MaXimal value>,\n",
        " ecut  <Energy CUToff>,\n",
        " ecuteps  <Energy CUT-off for EPSilon (the dielectric matrix)>,\n",
        " ecutsigx  <Energy CUT-off for SIGma eXchange>,\n",
        " ecutsm  <Energy CUToff SMearing>,\n",
        " ecutwfn  <Energy CUT-off for WaveFunctions>,\n",
        " elph2_imagden  <ELectron-PHonon interaction at 2nd order : IMAGina y shoft of the DENominator>,\n",
        " eshift  <Energy SHIFT>,\n",
        " esmear  <Eigenvalue SMEARing>,\n",
        " fftgw  <FFT for GW calculation>,\n",
        " iprcel  <Integer for PReConditioning of ELectron response>,\n",
        " iscf  <Integer for Self-Consistent-Field cycles>,\n",
        " istwfk  <Integer for choice of STorage of WaveFunction at each k point>,\n",
        " kptopt  <KPoinTs OPTion>,\n",
        " mpw  <Maximum number of Plane Waves>,\n",
        " ngfft  <Number of Grid points for Fast Fourier Transform>,\n",
        " npweps  <Number of PlaneWaves for EPSilon (the dielectric matrix)>,\n",
        " npwkss  <Number of PlaneWaves in the KSS file>,\n",
        " npwsigx  <Number of PlaneWaves for SIGma eXchange>,\n",
        " npwwfn  <Number of PlaneWaves for WaveFunctioNs>,\n",
        " nsheps  <Number of SHells for EPSilon (the dielectric matrix)>,\n",
        " nshsigx  <Number of SHells for SIGma eXchange>,\n",
        " optdriver  <OPTions for the DRIVER>,\n",
        " pawecutdg  <PAW - Energy CUToff for the Double Grid>,\n",
        " pawmixdg  <PAW - MIXing is done (or not) on the (fine) Double Grid>,\n",
        " pawovlp  <PAW - spheres OVerLap allowed (in percentage)>,\n",
        " pawprtwf  <PAW: PRinT WaveFunctions>,\n",
        " prtwf  <PRinT the WaveFunction>,\n",
        " sciss  <SCISSor operator>,\n",
        " tfkinfunc  <Thomas-Fermi KINetic energy FUNCtional>,\n",
        " timopt  <TIMing OPTion>,\n",
        " tphysel  <Temperature (PHYSical) of the ELectrons>,\n",
        " use_gpu_cuda  <activate USE of GPU accelerators with CUDA (nvidia)>,\n",
        " use_nonscf_gkk  <USE NON-SCF calculation of GKK matrix elements (electron phonon)>]"
       ]
      }
     ],
     "prompt_number": 6
    },
    {
     "cell_type": "code",
     "collapsed": false,
     "input": [
      "# Command line interface \n",
      "!abidoc.py --help"
     ],
     "language": "python",
     "metadata": {},
     "outputs": [
      {
       "output_type": "stream",
       "stream": "stdout",
       "text": [
        "usage: abidoc.py [-h] {man,apropos,find,list} ...\r\n",
        "\r\n",
        "optional arguments:\r\n",
        "  -h, --help            show this help message and exit\r\n",
        "\r\n",
        "subcommands:\r\n",
        "  Valid subcommands\r\n",
        "\r\n",
        "  {man,apropos,find,list}\r\n",
        "                        sub-command help\r\n",
        "    man                 Show documentation for varname.\r\n",
        "    apropos             Find variables related to varname.\r\n",
        "    find                Find all variables whose name contains varname.\r\n",
        "    list                List all variables.\r\n",
        "\r\n",
        "Usage example:\r\n",
        "    abidoc.py man ecut      --> Show documentation for ecut input variable.\r\n",
        "    abidoc.py apropos ecut  --> To search in the database for the variables related to ecut.\r\n",
        "    abidoc.py find paw      --> To search in the database for the variables whose name contains paw \r\n",
        "    abidoc.py list          --> Print full list of variables \r\n"
       ]
      }
     ],
     "prompt_number": 10
    },
    {
     "cell_type": "heading",
     "level": 1,
     "metadata": {},
     "source": [
      "Unit Conversion"
     ]
    },
    {
     "cell_type": "code",
     "collapsed": false,
     "input": [
      "# Hartree in eV\n",
      "Energy(1, \"Ha\").to(\"eV\")"
     ],
     "language": "python",
     "metadata": {},
     "outputs": [
      {
       "metadata": {},
       "output_type": "pyout",
       "prompt_number": 31,
       "text": [
        "27.21138386"
       ]
      }
     ],
     "prompt_number": 31
    },
    {
     "cell_type": "code",
     "collapsed": false,
     "input": [
      "# To convert a force in Ha/bohr into eV/Angstrom \n",
      "FloatWithUnit(1.1, \"Ha bohr^-1\").to(\"eV ang^-1\")"
     ],
     "language": "python",
     "metadata": {},
     "outputs": [
      {
       "metadata": {},
       "output_type": "pyout",
       "prompt_number": 40,
       "text": [
        "56.56426954244546"
       ]
      }
     ],
     "prompt_number": 40
    },
    {
     "cell_type": "markdown",
     "metadata": {},
     "source": [
      "See other examples at http://pymatgen.org/_static/Units.html"
     ]
    },
    {
     "cell_type": "heading",
     "level": 1,
     "metadata": {},
     "source": [
      "Equation of State (EOS)"
     ]
    },
    {
     "cell_type": "code",
     "collapsed": false,
     "input": [
      "# This example shows how to compute the equation of state by \n",
      "# fitting the total energy as function of the unit cell volume.\n",
      "# list of available models\n",
      "print(\"All models:\\n\", \", \".join(EOS.MODELS.keys()), \"\\n\")\n",
      "\n",
      "# Extract volumes and energies from the output files of the calculation.\n",
      "# Here we use hardcoded values.\n",
      "volumes = [13.72, 14.83, 16.0, 17.23, 18.52]\n",
      "energies = [-56.29, -56.41, -56.46, -56.46, -56.42]\n",
      "\n",
      "for eos_name in [\"birch_murnaghan\", \"murnaghan\"]:\n",
      "   eos = EOS(eos_name=eos_name)\n",
      "\n",
      "   # Note that eos.fit expects lengths in Angstrom, energies are in eV.\n",
      "   # To specify different units use len_units and ene_units \n",
      "   fit = eos.fit(volumes, energies, vol_unit=\"bohr^3\", ene_unit=\"Ha\")\n",
      "\n",
      "   print(fit)\n",
      "   fit.plot()"
     ],
     "language": "python",
     "metadata": {},
     "outputs": [
      {
       "output_type": "stream",
       "stream": "stdout",
       "text": [
        "All models:\n",
        " birch_murnaghan, pourier_tarantola, vinet, deltafactor, quadratic, murnaghan, birch \n",
        "\n",
        "EOS_fit: <function birch_murnaghan at 0x10bab5b90>\n",
        "e0, b0, b1, v0\n",
        "[-1536.5187008     94.88217922    -1.65198236     2.45113006]\n",
        "Equation of State: birch_murnaghan\n",
        "Minimum volume = 2.45 Ang^3\n",
        "Bulk modulus = 94.88 eV/Ang^3 = 15201.80 GPa, b1 = -1.65\n"
       ]
      },
      {
       "metadata": {},
       "output_type": "display_data",
       "png": "[encoded data removed]",
       "text": [
        "<matplotlib.figure.Figure at 0x11331dd50>"
       ]
      },
      {
       "output_type": "stream",
       "stream": "stdout",
       "text": [
        "EOS_fit: <function murnaghan at 0x10bab5aa0>\n",
        "e0, b0, b1, v0\n",
        "[-1536.50721703    89.92337344     4.75293137     2.45583469]\n",
        "Equation of State: murnaghan\n",
        "Minimum volume = 2.46 Ang^3\n",
        "Bulk modulus = 89.92 eV/Ang^3 = 14407.31 GPa, b1 = 4.75\n"
       ]
      },
      {
       "metadata": {},
       "output_type": "display_data",
       "png": "[encoded data removed]",
       "text": [
        "<matplotlib.figure.Figure at 0x113310b50>"
       ]
      }
     ],
     "prompt_number": 20
    }
   ],
   "metadata": {}
  }
 ]
}